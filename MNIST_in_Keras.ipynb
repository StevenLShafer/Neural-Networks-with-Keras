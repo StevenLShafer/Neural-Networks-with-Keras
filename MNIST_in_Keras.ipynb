{
  "cells": [
    {
      "cell_type": "markdown",
      "metadata": {
        "id": "view-in-github",
        "colab_type": "text"
      },
      "source": [
        "<a href=\"https://colab.research.google.com/github/StevenLShafer/Neural-Networks-with-Keras/blob/main/MNIST_in_Keras.ipynb\" target=\"_parent\"><img src=\"https://colab.research.google.com/assets/colab-badge.svg\" alt=\"Open In Colab\"/></a>"
      ]
    },
    {
      "cell_type": "markdown",
      "source": [
        "#Neural Networks with Keras\n",
        "**Steven L. Shafer, MD**\n",
        "\n",
        "*Professor Emeritus, Stanford University*\n",
        "\n",
        "-----\n",
        "\n",
        "Welcome to the Deep Learning with Keras Workshop at the WFSA Congress.\n",
        "\n",
        "This demonstration will be run in **Python**, not in the R programming language.\n",
        "\n",
        "The reason is that the Google Colab Notebooks already have Python installed. That will allow us to use the 90 minutes to focus on the basic concepts of a neural network, rather than spending the entire workshop installing the necessary software on your laptops.\n",
        "\n",
        "The workshop will **not** attempt to teach the Python programming language.\n"
      ],
      "metadata": {
        "id": "kZ3OaQjW6hZx"
      }
    },
    {
      "cell_type": "markdown",
      "source": [
        "#Basic terms\n",
        "\n",
        "**Neural Network** refers to simple cells of data that communicate with tens, hundreds, thousands, or even millions of other cells of data, analogous to how nerves communicate with tens, hundreds, thousands, or even millions of other nerves.\n",
        "\n",
        "**Tensors** are collections of these cells. The word **tensor** describes these collections. You already know several kinds of tensors:\n",
        "* **Scalar**: a single number, such as 7. This is a *tensor* of 0 dimensions.\n",
        "* **Vector**: a list of numbers, such as 1,2,3,4,5,6,7. This is a *tensor* of 1 dimension.\n",
        "* **Array**: a two dimensional list, such as an 10 row by 10 column Excel spreadsheet. This is a *tensor* of 2 dimensions.\n",
        "* **Cube**: A three dimensional list, for example ten Excel spreadsheets, each 10 rows and 10 columns. This is a *tensor* of 3 dimensions.\n",
        "* **Hypercube**: A bunch of cubes. This is a *tensor* of 4 dimensions.\n",
        "\n",
        "Our language doesn't have word for tensors of more than 4 dimensions. After 4 dimensions, we just call them *tensors*"
      ],
      "metadata": {
        "id": "Jwx8T_Kb6nxz"
      }
    },
    {
      "cell_type": "markdown",
      "source": [
        "#Tensors in Neural Networks\n",
        "\n",
        "As mentioend above, **tensors** are collections of the individual cells that are used in neural networks. We will be building a neural image that recognizes an image. Each image is 28 pixels by 28 pixels. That is a 2 dimensional **tensor**.\n",
        "\n",
        "Our data set consists of 70,000 such images. Thus, our data set is a three dimensional **tensor**, with dimensions of 28 x 28 x 70,000. 60,000 images will be used for training, and 10,000 images will be used to test the model.\n",
        "\n"
      ],
      "metadata": {
        "id": "E8_NXVPs-nwm"
      }
    },
    {
      "cell_type": "markdown",
      "source": [
        "We will create new **tensors** that connect all of these cells. These **tensors** will build on each other, creating more and more connections.\n",
        "\n",
        "However, our final **tensor**, the result, will just be a vector of 10 digits: 0,1,2,3,5,6,7,8,9. That will be a tensor of 1 dimension."
      ],
      "metadata": {
        "id": "f_WwZm0P_sn9"
      }
    },
    {
      "cell_type": "markdown",
      "source": [
        "# TensorFlow\n",
        "You can think of a **neural network** as being a series of **tensors** that flow into each other. That is why Google named the software that manipulated tensors ***TensorFlow***.\n",
        "\n",
        "# Keras\n",
        "The language of ***TensorFlow*** is complex. A program called ***Keras*** is a \"front end\" for ***TensorFlow***. ***Keras*** allows building **neural networks** with a fairly small set of commands that work like Lego blocks, each building upon the prior command."
      ],
      "metadata": {
        "id": "AnqVc2uWAb_5"
      }
    },
    {
      "cell_type": "markdown",
      "metadata": {
        "id": "uNAsyGCSRi3j"
      },
      "source": [
        "# Introduction to Deep Learning with Keras and TensorFlow\n",
        "\n",
        "**Daniel Moser (UT Southwestern Medical Center)**\n",
        "\n",
        "**Resources: [Xavier Snelgrove](https://github.com/wxs/keras-mnist-tutorial), [Yash Katariya](https://github.com/yashk2810/MNIST-Keras)**"
      ]
    },
    {
      "cell_type": "markdown",
      "metadata": {
        "id": "wgJYXISaRi3l"
      },
      "source": [
        "## The Task for the AI\n",
        "\n",
        "Our goal is to construct and train an artificial neural network on thousands of images of handwritten digits so that it may successfully identify others when presented. The data that will be incorporated is the MNIST database which contains 60,000 images for training and 10,000 test images.\n",
        "\n",
        "MNIST stands for the *Modified National Institute of Standards and Technology*, who created this database to test image processing software. It is commonly used for introductions to machine learning and neural networks.\n",
        "\n",
        "We will use Keras with TensorFlow to build a neural network that recognizes the digits in the MNIST database."
      ]
    },
    {
      "cell_type": "markdown",
      "metadata": {
        "id": "v5By3Db8Ri3l"
      },
      "source": [
        "<img src=\"https://github.com/AviatorMoser/keras-mnist-tutorial/blob/master/mnist.png?raw=1\" >"
      ]
    },
    {
      "cell_type": "markdown",
      "metadata": {
        "id": "cSdbwdfbRi3l"
      },
      "source": [
        "## Load the necessary python modules into Google Colab.\n",
        "\n",
        "We will first load some software into the Python environment of Google Colab. You do not need to understand this code. However there are comments below if you are interested."
      ]
    },
    {
      "cell_type": "code",
      "execution_count": null,
      "metadata": {
        "id": "EKdm6iEoRi3l"
      },
      "outputs": [],
      "source": [
        "%matplotlib inline\n",
        "\n",
        "import numpy as np                   # advanced math library\n",
        "import matplotlib.pyplot as plt      # MATLAB like plotting routines\n",
        "import random                        # for generating random numbers\n",
        "#import np_utils                      # NumPy related tools\n",
        "\n",
        "from keras.datasets import mnist     # MNIST dataset is included in Keras\n",
        "from keras.models import Sequential  # Type of neural network in this example\n",
        "                                     # We will be creating sequential layers of tensors\n",
        "\n",
        "from keras.layers import Dense, Dropout, Activation # These are different kinds of layers\n",
        "                                                    # that we will use.\n",
        "from keras.utils import to_categorical # This will convert a class into something\n",
        "                                       # called a \"binary class\". I'll explain\n",
        "                                       # this below\n"
      ]
    },
    {
      "cell_type": "markdown",
      "metadata": {
        "id": "00b65c_URi3m"
      },
      "source": [
        "## Loading Training Data\n",
        "\n",
        "The MNIST dataset is conveniently bundled within Keras, and we can easily analyze some of its features in Python."
      ]
    },
    {
      "cell_type": "code",
      "execution_count": null,
      "metadata": {
        "id": "qiYewV4pRi3m",
        "outputId": "18ab2601-66ad-4c35-c080-012f599b3a93",
        "colab": {
          "base_uri": "https://localhost:8080/"
        }
      },
      "outputs": [
        {
          "output_type": "stream",
          "name": "stdout",
          "text": [
            "X_train shape (60000, 28, 28)\n",
            "y_train shape (60000,)\n",
            "X_test shape (10000, 28, 28)\n",
            "y_test shape (10000,)\n"
          ]
        }
      ],
      "source": [
        "# The MNIST data is split between 60,000 28 x 28 pixel training images and 10,000 28 x 28 pixel images\n",
        "(X_train, y_train), (X_test, y_test) = mnist.load_data()\n",
        "\n",
        "print(\"X_train shape\", X_train.shape)\n",
        "print(\"y_train shape\", y_train.shape)\n",
        "print(\"X_test shape\", X_test.shape)\n",
        "print(\"y_test shape\", y_test.shape)"
      ]
    },
    {
      "cell_type": "markdown",
      "metadata": {
        "id": "WIoSI09RRi3m"
      },
      "source": [
        "Using matplotlib, we can plot some sample images from the training set directly into this Jupyter Notebook."
      ]
    },
    {
      "cell_type": "code",
      "execution_count": null,
      "metadata": {
        "id": "ty-uZhctRi3n",
        "outputId": "53d6e95a-fbac-43f7-f866-6856dc8e8437",
        "colab": {
          "base_uri": "https://localhost:8080/",
          "height": 907
        }
      },
      "outputs": [
        {
          "output_type": "display_data",
          "data": {
            "text/plain": [
              "<Figure size 900x900 with 9 Axes>"
            ],
            "image/png": "[encoded data removed]"
          },
          "metadata": {}
        }
      ],
      "source": [
        "plt.rcParams['figure.figsize'] = (9,9) # Make the figures a bit bigger\n",
        "\n",
        "for i in range(9):\n",
        "    plt.subplot(3,3,i+1)\n",
        "    num = random.randint(0, len(X_train))\n",
        "    plt.imshow(X_train[num], cmap='gray', interpolation='none')\n",
        "    plt.title(\"Class {}\".format(y_train[num]))\n",
        "\n",
        "plt.tight_layout()\n"
      ]
    },
    {
      "cell_type": "markdown",
      "metadata": {
        "id": "U2h7UP-ERi3n"
      },
      "source": [
        "Let's examine a single digit a little closer. Here is the array (a 28 x 28 **tensor**) representing the last digit."
      ]
    },
    {
      "cell_type": "code",
      "execution_count": null,
      "metadata": {
        "id": "MOUrS0uQRi3n",
        "outputId": "1dfff729-7df0-4279-a373-37a42b5fad3e",
        "colab": {
          "base_uri": "https://localhost:8080/"
        }
      },
      "outputs": [
        {
          "output_type": "stream",
          "name": "stdout",
          "text": [
            "0 0 0 0 0 0 0 0 0 0 0  0   0   0   0   0   0   0 0 0 0 0 0 0 0 0 0 0 \n",
            "0 0 0 0 0 0 0 0 0 0 0  0   0   0   0   0   0   0 0 0 0 0 0 0 0 0 0 0 \n",
            "0 0 0 0 0 0 0 0 0 0 0  0   0   0   0   0   0   0 0 0 0 0 0 0 0 0 0 0 \n",
            "0 0 0 0 0 0 0 0 0 0 0  0   0   0   0   0   0   0 0 0 0 0 0 0 0 0 0 0 \n",
            "0 0 0 0 0 0 0 0 0 0 0  0   0   0   0   0   0   0 0 0 0 0 0 0 0 0 0 0 \n",
            "0 0 0 0 0 0 0 0 0 0 0  0   0   0   0 255 253 184 0 0 0 0 0 0 0 0 0 0 \n",
            "0 0 0 0 0 0 0 0 0 0 0  0   0   0   0 253 252 183 0 0 0 0 0 0 0 0 0 0 \n",
            "0 0 0 0 0 0 0 0 0 0 0  0   0   0   0 253 252 183 0 0 0 0 0 0 0 0 0 0 \n",
            "0 0 0 0 0 0 0 0 0 0 0  0   0   0   0 253 252 183 0 0 0 0 0 0 0 0 0 0 \n",
            "0 0 0 0 0 0 0 0 0 0 0  0   0   0 106 253 252 130 0 0 0 0 0 0 0 0 0 0 \n",
            "0 0 0 0 0 0 0 0 0 0 0  0   0   0 127 255 253  69 0 0 0 0 0 0 0 0 0 0 \n",
            "0 0 0 0 0 0 0 0 0 0 0  0   0  17 234 253 202  25 0 0 0 0 0 0 0 0 0 0 \n",
            "0 0 0 0 0 0 0 0 0 0 0  0   0  93 252 253  92   0 0 0 0 0 0 0 0 0 0 0 \n",
            "0 0 0 0 0 0 0 0 0 0 0  0   0  93 252 253  92   0 0 0 0 0 0 0 0 0 0 0 \n",
            "0 0 0 0 0 0 0 0 0 0 0  0   0 197 252 243  50   0 0 0 0 0 0 0 0 0 0 0 \n",
            "0 0 0 0 0 0 0 0 0 0 0  0   0 208 253 231   0   0 0 0 0 0 0 0 0 0 0 0 \n",
            "0 0 0 0 0 0 0 0 0 0 0  0  45 236 252 209   0   0 0 0 0 0 0 0 0 0 0 0 \n",
            "0 0 0 0 0 0 0 0 0 0 0  0 101 252 252 116   0   0 0 0 0 0 0 0 0 0 0 0 \n",
            "0 0 0 0 0 0 0 0 0 0 0  0 184 252 252  21   0   0 0 0 0 0 0 0 0 0 0 0 \n",
            "0 0 0 0 0 0 0 0 0 0 0  0 184 252 252   0   0   0 0 0 0 0 0 0 0 0 0 0 \n",
            "0 0 0 0 0 0 0 0 0 0 0  5 191 253 253   0   0   0 0 0 0 0 0 0 0 0 0 0 \n",
            "0 0 0 0 0 0 0 0 0 0 0 47 252 252 231   0   0   0 0 0 0 0 0 0 0 0 0 0 \n",
            "0 0 0 0 0 0 0 0 0 0 0 47 252 252 137   0   0   0 0 0 0 0 0 0 0 0 0 0 \n",
            "0 0 0 0 0 0 0 0 0 0 0 47 252 252 137   0   0   0 0 0 0 0 0 0 0 0 0 0 \n",
            "0 0 0 0 0 0 0 0 0 0 0 47 252 252  32   0   0   0 0 0 0 0 0 0 0 0 0 0 \n",
            "0 0 0 0 0 0 0 0 0 0 0  0   0   0   0   0   0   0 0 0 0 0 0 0 0 0 0 0 \n",
            "0 0 0 0 0 0 0 0 0 0 0  0   0   0   0   0   0   0 0 0 0 0 0 0 0 0 0 0 \n",
            "0 0 0 0 0 0 0 0 0 0 0  0   0   0   0   0   0   0 0 0 0 0 0 0 0 0 0 0 \n"
          ]
        }
      ],
      "source": [
        "# just a little function for pretty printing a matrix\n",
        "def matprint(mat, fmt=\"g\"):\n",
        "    col_maxes = [max([len((\"{:\"+fmt+\"}\").format(x)) for x in col]) for col in mat.T]\n",
        "    for x in mat:\n",
        "        for i, y in enumerate(x):\n",
        "            print((\"{:\"+str(col_maxes[i])+fmt+\"}\").format(y), end=\" \")\n",
        "        print(\"\")\n",
        "\n",
        "# now print!\n",
        "matprint(X_train[num])"
      ]
    },
    {
      "cell_type": "markdown",
      "metadata": {
        "id": "kOsQ8PMjRi3n"
      },
      "source": [
        "Each pixel is an 8-bit integer from 0-255. 0 is full black, while 255 is full white.\n"
      ]
    },
    {
      "cell_type": "markdown",
      "metadata": {
        "id": "jHB2w06aRi3n"
      },
      "source": [
        "## Formatting the input data layer\n",
        "\n",
        "Instead of a 28 x 28 matrix, we rearrange the cells to create a 784-length vector. 28 x 28 = 784, so this doesn't change the number of cells. It just arranges them in a vector, rather than in an array.\n",
        "\n",
        "You may think that this will create a mess. After all, in the array below the 1 in the upper left corner has another 1 to the right, and a 4 below it. However, as we build a neural network, we learn the relationships between all cells, regardless of position. If it is important that the 1 in the upper left corner somehow be connected to the cell to the right, and the cell below, the neural network will figure that out.  \n",
        "\n",
        "We will also normalize the inputs to be in the range [0-1] rather than [0-255]. That just requires dividing each cell by 255. As we build this neural network, all of the cells in all tensors will have values from 0 to 1. That improves processing efficiency."
      ]
    },
    {
      "cell_type": "markdown",
      "metadata": {
        "id": "RUHBnFb4Ri3n"
      },
      "source": [
        "<img src='https://github.com/AviatorMoser/keras-mnist-tutorial/blob/master/flatten.png?raw=1' >"
      ]
    },
    {
      "cell_type": "code",
      "execution_count": null,
      "metadata": {
        "id": "-jEYiNrIRi3o",
        "outputId": "0458b923-7c2f-4494-cda5-a3471b613c8f",
        "colab": {
          "base_uri": "https://localhost:8080/"
        }
      },
      "outputs": [
        {
          "output_type": "stream",
          "name": "stdout",
          "text": [
            "Training matrix shape (60000, 784)\n",
            "Testing matrix shape (10000, 784)\n"
          ]
        }
      ],
      "source": [
        "# We will first \"flatten\" the individual images, as pictured above\n",
        "X_train = X_train.reshape(60000, 784) # reshape a 60,000 x 28 x 28 tensor into a 60,000 x 784 tensor.\n",
        "X_test = X_test.reshape(10000, 784)   # reshape a 10,000 x 28 x 28 tensor into a 10,000 x 784 tensor.\n",
        "\n",
        "# We will then divide every cell by 255, converting them to numbers from 0 to 1\n",
        "X_train = X_train.astype('float32')/255   # change integers to 32-bit floating point numbers\n",
        "X_test = X_test.astype('float32')/255     # and divide by 255 to change to a 0 1 range\n",
        "\n",
        "print(\"Training matrix shape\", X_train.shape)\n",
        "print(\"Testing matrix shape\", X_test.shape)"
      ]
    },
    {
      "cell_type": "markdown",
      "metadata": {
        "id": "nK9IxR4aRi3o"
      },
      "source": [
        "## Define the classifiers\n",
        "We have pictures of the digits from 0 to 9. We know (from a human) which digit appears in each picture. That is the \"class\" of the picture (i.e., the \"class\" is a number from 0 to 9).\n",
        "\n",
        "Our neural network will identify relationships among pixels that best map the pixels into the correct class. We first need to define the classes in a way that permits uncertainty in how well each picture conforms to each classe. That requires defining our classes like this.\n",
        "\n",
        "\n",
        "- 0 -> [__1__, 0, 0, 0, 0, 0, 0, 0, 0, 0]\n",
        "- 1 -> [0, __1__, 0, 0, 0, 0, 0, 0, 0, 0]\n",
        "- 2 -> [0, 0, __1__, 0, 0, 0, 0, 0, 0, 0]\n",
        "- 3 -> [0, 0, 0, __1__, 0, 0, 0, 0, 0, 0]\n",
        "- 4 -> [0, 0, 0, 0, __1__, 0, 0, 0, 0, 0]\n",
        "- 5 -> [0, 0, 0, 0, 0, __1__, 0, 0, 0, 0]\n",
        "- 6 -> [0, 0, 0, 0, 0, 0, __1__, 0, 0, 0]\n",
        "- 7 -> [0, 0, 0, 0, 0, 0, 0, __1__, 0, 0]\n",
        "- 8 -> [0, 0, 0, 0, 0, 0, 0, 0, __1__, 0]\n",
        "- 9 -> [0, 0, 0, 0, 0, 0, 0, 0, 0, __1__]\n",
        "___\n",
        "\n",
        "If the final output of our network is close to one of these classes, then it is most likely that class. For example, if the final output is:\n",
        "\n",
        "\n",
        "- [0, __0.94__, 0, 0, 0, 0, __0.06__, 0, 0]\n",
        "\n",
        "then this image is probably the digit __1__.\n",
        "\n",
        "___\n",
        "\n",
        "If the output is this:\n",
        "\n",
        "- [0, __0.1__, 0, 0, 0, 0, 0, 0, __0.9__]\n",
        "\n",
        "Then the image is probably the digit __9__.\n",
        "\n",
        "___\n",
        "\n",
        "If the output is this:\n",
        "\n",
        "- [0, __0.60__, __0.40__, 0, 0, 0, 0, 0, 0]\n",
        "\n",
        "Then the image is probably a __1__ (60% chance), but it could be a __2__ (40% chance).\n",
        "\n",
        "___\n",
        "\n",
        "If the output of the network is this:\n",
        "\n",
        "- [0, __0.5__, 0, __0.5__, 0, 0, 0, 0, 0]\n",
        "\n",
        "There is an equal chance that the image is a __1__ or a __3__. The image is ambiguous to the neural network, it could be either.\n",
        "\n",
        "___\n",
        "\n",
        "How about this?\n",
        "\n",
        "- [__0.1__, __0.1__, __0.1__, __0.1__, __0.1__, __0.1__, __0.01__, __0.1__, __0.1__]\n",
        "\n",
        "Each classification is equally probable, so the network has  __no idea__ what digit appears in the image.\n",
        "\n"
      ]
    },
    {
      "cell_type": "code",
      "execution_count": null,
      "metadata": {
        "collapsed": true,
        "id": "7jrp-03fRi3o"
      },
      "outputs": [],
      "source": [
        "classes = 10 # number of unique digits\n",
        "\n",
        "Y_train = to_categorical(y_train, classes) # This converts the traning classifiers\n",
        "Y_test = to_categorical(y_test, classes)   # This converts the test classifiers"
      ]
    },
    {
      "cell_type": "markdown",
      "source": [
        "##Let's look at our first y_test and Y_Test"
      ],
      "metadata": {
        "id": "NQeWsu5SGNCv"
      }
    },
    {
      "cell_type": "code",
      "source": [
        "print(\"This is the first y_test\", y_test[1])\n",
        "print(\"This is the first Y_test\", Y_test[1])"
      ],
      "metadata": {
        "colab": {
          "base_uri": "https://localhost:8080/"
        },
        "id": "39rD7JkrGhck",
        "outputId": "49387eee-5d84-45d2-8106-102cc3b3606e"
      },
      "execution_count": null,
      "outputs": [
        {
          "output_type": "stream",
          "name": "stdout",
          "text": [
            "This is the first y_test 2\n",
            "This is the first Y_test [0. 0. 1. 0. 0. 0. 0. 0. 0. 0.]\n"
          ]
        }
      ]
    },
    {
      "cell_type": "markdown",
      "source": [
        "y_test[1] simply said the first image was a 2, a class assigned by a human reader.\n",
        "\n",
        "Y_test[1] (with a capital Y) said it there was no chance the first image was a 0, 1, 3, 4, 5, 6, 7, 8, 9, and 100% chance it was a 2.\n",
        "\n",
        "Training and applying a neural network requres that there be a probability of any classification, which is why we created Y_test from y_test.\n"
      ],
      "metadata": {
        "id": "kmziSAhNIT9E"
      }
    },
    {
      "cell_type": "markdown",
      "metadata": {
        "id": "ZrAZyF3HRi3o"
      },
      "source": [
        "# Building a 3-layer fully connected network (FCN)\n",
        "\n",
        "<img src= \"https://github.com/StevenLShafer/Neural-Networks-with-Keras/blob/main/StackedNN.png?raw=1\">\n"
      ]
    },
    {
      "cell_type": "code",
      "execution_count": null,
      "metadata": {
        "collapsed": true,
        "id": "jlLwQACfRi3o"
      },
      "outputs": [],
      "source": [
        "# The Sequential model is a linear stack of layers and is very common.\n",
        "\n",
        "model = Sequential() # This is the Keras command to start creating a sequential model"
      ]
    },
    {
      "cell_type": "markdown",
      "metadata": {
        "id": "pgetdp7pRi3o"
      },
      "source": [
        "## The first hidden layer"
      ]
    },
    {
      "cell_type": "code",
      "execution_count": null,
      "metadata": {
        "collapsed": true,
        "id": "DqKPIo81Ri3o"
      },
      "outputs": [],
      "source": [
        "# The first hidden layer is a set of 512 nodes (artificial neurons).\n",
        "# Each node will receive an element from each input vector and apply some weight and bias to it.\n",
        "\n",
        "model.add(Dense(512, input_shape=(784,))) #(784,) is not a typo -- that represents a 784 length vector!"
      ]
    },
    {
      "cell_type": "code",
      "execution_count": null,
      "metadata": {
        "collapsed": true,
        "id": "xLxMLEnsRi3o"
      },
      "outputs": [],
      "source": [
        "# An \"activation\" is a non-linear function applied to the output of the layer above.\n",
        "# It checks the new value of the node, and decides whether that \"neuron\" has fired.\n",
        "# The Rectified Linear Unit (ReLU) converts all negative inputs to nodes in the next layer to be zero.\n",
        "# Those inputs are then not considered to be fired.\n",
        "# Positive values of a node are unchanged.\n",
        "\n",
        "model.add(Activation('relu'))"
      ]
    },
    {
      "cell_type": "markdown",
      "metadata": {
        "id": "2n7PSmXWRi3p"
      },
      "source": [
        "$$f(x) = max (0,x)$$\n",
        "<img src = \"https://github.com/AviatorMoser/keras-mnist-tutorial/blob/master/relu.jpg?raw=1\">"
      ]
    },
    {
      "cell_type": "code",
      "execution_count": null,
      "metadata": {
        "collapsed": true,
        "id": "zIipzVTKRi3p"
      },
      "outputs": [],
      "source": [
        "# Dropout zeroes a selection of random outputs (i.e., disables their activation)\n",
        "# Dropout helps protect the model from memorizing or \"overfitting\" the training data.\n",
        "model.add(Dropout(0.2))"
      ]
    },
    {
      "cell_type": "markdown",
      "metadata": {
        "id": "GUDYOPmTRi3p"
      },
      "source": [
        "## Adding the second hidden layer"
      ]
    },
    {
      "cell_type": "code",
      "execution_count": null,
      "metadata": {
        "collapsed": true,
        "id": "puGTfKHwRi3p"
      },
      "outputs": [],
      "source": [
        "# The second hidden layer appears identical to our first layer.\n",
        "# However, instead of each of the 512-node receiving 784-inputs from the input image data,\n",
        "# they receive 512 inputs from the output of the first 512-node layer.\n",
        "\n",
        "model.add(Dense(512))\n",
        "model.add(Activation('relu'))\n",
        "model.add(Dropout(0.2))"
      ]
    },
    {
      "cell_type": "markdown",
      "metadata": {
        "id": "zFD0AMZKRi3p"
      },
      "source": [
        "## The Final Output Layer"
      ]
    },
    {
      "cell_type": "code",
      "execution_count": null,
      "metadata": {
        "collapsed": true,
        "id": "cv_jsd7VRi3p"
      },
      "outputs": [],
      "source": [
        "# The final layer of 10 neurons in fully-connected to the previous 512-node layer.\n",
        "# The final layer of a FCN should be equal to the number of desired classes (10 in this case).\n",
        "model.add(Dense(10))"
      ]
    },
    {
      "cell_type": "code",
      "execution_count": null,
      "metadata": {
        "collapsed": true,
        "id": "3m_b8-5gRi3p"
      },
      "outputs": [],
      "source": [
        "# The \"softmax\" activation represents a probability distribution over K different possible outcomes.\n",
        "# Its values are all non-negative and sum to 1.\n",
        "\n",
        "model.add(Activation('softmax'))"
      ]
    },
    {
      "cell_type": "code",
      "execution_count": null,
      "metadata": {
        "id": "c0J66zIGRi3p",
        "outputId": "10c5e16a-22de-44af-b822-6573b2b79f70",
        "colab": {
          "base_uri": "https://localhost:8080/"
        }
      },
      "outputs": [
        {
          "output_type": "stream",
          "name": "stdout",
          "text": [
            "Model: \"sequential_6\"\n",
            "_________________________________________________________________\n",
            " Layer (type)                Output Shape              Param #   \n",
            "=================================================================\n",
            " dense_12 (Dense)            (None, 512)               401920    \n",
            "                                                                 \n",
            " activation_21 (Activation)  (None, 512)               0         \n",
            "                                                                 \n",
            " dropout_8 (Dropout)         (None, 512)               0         \n",
            "                                                                 \n",
            " dense_13 (Dense)            (None, 512)               262656    \n",
            "                                                                 \n",
            " activation_22 (Activation)  (None, 512)               0         \n",
            "                                                                 \n",
            " dropout_9 (Dropout)         (None, 512)               0         \n",
            "                                                                 \n",
            " dense_14 (Dense)            (None, 10)                5130      \n",
            "                                                                 \n",
            " activation_23 (Activation)  (None, 10)                0         \n",
            "                                                                 \n",
            "=================================================================\n",
            "Total params: 669706 (2.55 MB)\n",
            "Trainable params: 669706 (2.55 MB)\n",
            "Non-trainable params: 0 (0.00 Byte)\n",
            "_________________________________________________________________\n"
          ]
        }
      ],
      "source": [
        "# Summarize the built model\n",
        "\n",
        "model.summary()"
      ]
    },
    {
      "cell_type": "markdown",
      "source": [
        "The first dense layer represents a mapping of **each** of the 784 cells (a single image) + 1 additional cell (an annotation) into an array of 512 elements. This dense layer has 512 cells. However, each of the 785 cells in the image has a unique parameter that maps it into the 512 cell dense layer. The neural network has to thus figure out 401920 parameters, which is the coefficient to go from the initial image to this dense layer.\n",
        "\n",
        "The layer marked dense 1 is the second layer. The 512 cells in the first layer, plus an annotation layer, are mapped to 512 cells in the second layer. To create this map, the system will estimate an additional 262656 parameters (512 * 513).\n",
        "\n",
        "The last layer is output layer. Each of the 512 cells in the dense 1 laywer, plus an annotation cell, is mapped into just ten cells, which are the probabilities of digits 0, 1, 2, 3, 4, 5, 6, 7, 8, and 9, respectively. The system will estimate 5130 parameters to create this map.\n",
        "\n",
        "The net result is that the system will estimate 669706 parameters. These parameters provide a path from the original MNIST image to the probabilities of each digit.\n",
        "\n",
        "The second dense layer"
      ],
      "metadata": {
        "id": "JXzE8b7OexgZ"
      }
    },
    {
      "cell_type": "markdown",
      "metadata": {
        "id": "bzdy8fG9Ri3p"
      },
      "source": [
        "## Compiling the model\n",
        "When compiing a model you need to specify a **loss function** and an **optimizer**. The loss function we'll use here is called *categorical cross-entropy*. This loss function is well-suited to comparing two probability distributions.\n",
        "\n",
        "Our predictions areb based on the predictions of the probability of each digits (e.g. \"we're 80% confident this image is a 3, 10% sure it's an 8, 5% it's a 2, etc.\").\n",
        "\n",
        "The cross-entropy function is a measure of how different your predicted distribution is from the target distribution. [More detail at Wikipedia](https://en.wikipedia.org/wiki/Cross_entropy)\n",
        "\n",
        "All forms of iterative estimation involve minimizing the error between measured and predicted values. In meachine learning this is called the \"optimizer.\" The optimizer helps determine how quickly the model learns through **gradient descent**. The rate at which descends a gradient is called the **learning rate**.\n",
        "\n",
        "In 2014 a new method was proposed called **Adaptive Moment Estimation**, usually just called **ADAM**. This has become particularly popular for estimating the parameters in neural networks, and will be used in this example."
      ]
    },
    {
      "cell_type": "markdown",
      "metadata": {
        "id": "XIkoJ7M8Ri3p"
      },
      "source": [
        "<img src = \"https://github.com/AviatorMoser/keras-mnist-tutorial/blob/master/gradient_descent.png?raw=1\" >"
      ]
    },
    {
      "cell_type": "markdown",
      "metadata": {
        "id": "CtHecAsQRi3q"
      },
      "source": [
        "<img src = \"https://github.com/AviatorMoser/keras-mnist-tutorial/blob/master/learning_rate.png?raw=1\" >"
      ]
    },
    {
      "cell_type": "markdown",
      "metadata": {
        "id": "pFnpY0JIRi3q"
      },
      "source": [
        "So are smaller learning rates better? Not quite! It's important for an optimizer not to get stuck in local minima while neglecting the global minimum of the loss function. Sometimes that means trying a larger learning rate to jump out of a local minimum."
      ]
    },
    {
      "cell_type": "markdown",
      "metadata": {
        "id": "7-mPbyKHRi3q"
      },
      "source": [
        "<img src = 'https://github.com/AviatorMoser/keras-mnist-tutorial/blob/master/complicated_loss_function.png?raw=1' >"
      ]
    },
    {
      "cell_type": "code",
      "execution_count": null,
      "metadata": {
        "collapsed": true,
        "id": "tG2YLuBVRi3q"
      },
      "outputs": [],
      "source": [
        "# Let's use the Adam optimizer for learning\n",
        "model.compile(loss='categorical_crossentropy', optimizer='adam', metrics=['accuracy'])"
      ]
    },
    {
      "cell_type": "markdown",
      "metadata": {
        "id": "xUi0-gNxRi3q"
      },
      "source": [
        "## Train the model!\n",
        "This is the fun part!"
      ]
    },
    {
      "cell_type": "markdown",
      "metadata": {
        "id": "vgHwldrsRi3t"
      },
      "source": [
        "The batch size determines over how much data per step is used to compute the loss function, gradients, and back propagation. Large batch sizes allow the network to complete it's training faster; however, there are other factors beyond training speed to consider.\n",
        "\n",
        "Too large of a batch size smoothes the local minima of the loss function, causing the optimizer to settle in one because it thinks it found the global minimum.\n",
        "\n",
        "Too small of a batch size creates a very noisy loss function, and the optimizer may never find the global minimum.\n",
        "\n",
        "So a good batch size may take some trial and error to find!"
      ]
    },
    {
      "cell_type": "code",
      "execution_count": null,
      "metadata": {
        "id": "-FyGcTVwRi3t",
        "outputId": "94895687-9ff3-4ae0-8927-9158dd2bd058",
        "colab": {
          "base_uri": "https://localhost:8080/"
        }
      },
      "outputs": [
        {
          "output_type": "stream",
          "name": "stdout",
          "text": [
            "Epoch 1/5\n",
            "469/469 [==============================] - 3s 4ms/step - loss: 0.2492 - accuracy: 0.9255\n",
            "Epoch 2/5\n",
            "469/469 [==============================] - 2s 4ms/step - loss: 0.1027 - accuracy: 0.9683\n",
            "Epoch 3/5\n",
            "469/469 [==============================] - 2s 4ms/step - loss: 0.0715 - accuracy: 0.9775\n",
            "Epoch 4/5\n",
            "469/469 [==============================] - 2s 5ms/step - loss: 0.0538 - accuracy: 0.9830\n",
            "Epoch 5/5\n",
            "469/469 [==============================] - 2s 4ms/step - loss: 0.0449 - accuracy: 0.9856\n"
          ]
        },
        {
          "output_type": "execute_result",
          "data": {
            "text/plain": [
              "<keras.src.callbacks.History at 0x7e07f611b9d0>"
            ]
          },
          "metadata": {},
          "execution_count": 259
        }
      ],
      "source": [
        "model.fit(\n",
        "    X_train, # The images\n",
        "    Y_train, # The classifiers (0 through 9, each as the probablities as shown above)\n",
        "    batch_size=128,\n",
        "    epochs=5,\n",
        "    verbose=1\n",
        "    )"
      ]
    },
    {
      "cell_type": "markdown",
      "metadata": {
        "id": "1kMI4NHeRi3t"
      },
      "source": [
        "The two numbers, in order, represent the value of the loss function of the network on the training set, and the overall accuracy of the network on the training data. But how does it do on data it did not train on?"
      ]
    },
    {
      "cell_type": "markdown",
      "metadata": {
        "id": "b0ca-d2RRi3t"
      },
      "source": [
        "## Evaluate Model's Accuracy on Test Data"
      ]
    },
    {
      "cell_type": "code",
      "execution_count": null,
      "metadata": {
        "id": "iFpS_qGfRi3u",
        "colab": {
          "base_uri": "https://localhost:8080/"
        },
        "outputId": "d68857e7-f1fa-4cc1-f863-0e6011fee490"
      },
      "outputs": [
        {
          "output_type": "stream",
          "name": "stdout",
          "text": [
            "313/313 [==============================] - 1s 3ms/step - loss: 0.0644 - accuracy: 0.9812\n",
            "Test score: 0.06440315395593643\n",
            "Test accuracy: 0.9811999797821045\n"
          ]
        }
      ],
      "source": [
        "score = model.evaluate(X_test, Y_test)\n",
        "print('Test score:', score[0])\n",
        "print('Test accuracy:', score[1])"
      ]
    },
    {
      "cell_type": "markdown",
      "metadata": {
        "id": "2f58jd0_Ri3u"
      },
      "source": [
        "### Inspecting the output\n",
        "\n",
        "It's always a good idea to inspect the output and make sure everything looks sane. Here we'll look at some examples it gets right, and some examples it gets wrong."
      ]
    },
    {
      "cell_type": "code",
      "execution_count": null,
      "metadata": {
        "collapsed": true,
        "id": "R2VKli14Ri3u",
        "colab": {
          "base_uri": "https://localhost:8080/"
        },
        "outputId": "660df7cc-721d-4d01-812a-a95edc07480e"
      },
      "outputs": [
        {
          "output_type": "stream",
          "name": "stdout",
          "text": [
            "313/313 [==============================] - 1s 2ms/step\n"
          ]
        }
      ],
      "source": [
        "# The predict_classes function outputs the highest probability class\n",
        "# according to the trained classifier for each input example.\n",
        "predicted_classes = np.argmax(model.predict(X_test), axis = 1) #,axis=1)model.predict_classes(X_test)\n",
        "\n",
        "# Check which items we got right / wrong\n",
        "correct_indices = np.nonzero(predicted_classes == y_test)[0]\n",
        "\n",
        "incorrect_indices = np.nonzero(predicted_classes != y_test)[0]\n"
      ]
    },
    {
      "cell_type": "code",
      "execution_count": null,
      "metadata": {
        "id": "Hj18bnm1Ri3u",
        "colab": {
          "base_uri": "https://localhost:8080/",
          "height": 907
        },
        "outputId": "55bf845a-ec49-4b93-ef24-f5d89886a9a0"
      },
      "outputs": [
        {
          "output_type": "display_data",
          "data": {
            "text/plain": [
              "<Figure size 900x900 with 9 Axes>"
            ],
            "image/png": "[encoded data removed]"
          },
          "metadata": {}
        }
      ],
      "source": [
        "plt.figure()\n",
        "for i, correct in enumerate(correct_indices[:9]):\n",
        "    plt.subplot(3,3,i+1)\n",
        "    plt.imshow(X_test[correct].reshape(28,28), cmap='gray', interpolation='none')\n",
        "    plt.title(\"Predicted {}, Class {}\".format(predicted_classes[correct], y_test[correct]))\n",
        "\n",
        "plt.tight_layout()\n",
        "\n"
      ]
    },
    {
      "cell_type": "code",
      "source": [
        "plt.figure()\n",
        "for i, incorrect in enumerate(incorrect_indices[:9]):\n",
        "    plt.subplot(3,3,i+1)\n",
        "    plt.imshow(X_test[incorrect].reshape(28,28), cmap='gray', interpolation='none')\n",
        "    plt.title(\"Predicted {}, Class {}\".format(predicted_classes[incorrect], y_test[incorrect]))\n",
        "\n",
        "plt.tight_layout()"
      ],
      "metadata": {
        "colab": {
          "base_uri": "https://localhost:8080/",
          "height": 907
        },
        "id": "qdvBV3yFn7-c",
        "outputId": "bbf4aef3-e5fa-44f9-df2a-5be1caa74c5e"
      },
      "execution_count": null,
      "outputs": [
        {
          "output_type": "display_data",
          "data": {
            "text/plain": [
              "<Figure size 900x900 with 9 Axes>"
            ],
            "image/png": "[encoded data removed]"
          },
          "metadata": {}
        }
      ]
    },
    {
      "cell_type": "code",
      "source": [
        "from keras import backend as K\n",
        "get_layer_output = K.function([model.layers[0].input],\n",
        "                                  [model.layers[5].output])\n",
        "nb = 234\n",
        "img = [X_test[nb,].reshape(1,784)]\n",
        "layer_output = get_layer_output(img)[0]\n",
        "plt.rcParams['figure.figsize'] = (10,10)\n",
        "plt.subplot(1,3,1)\n",
        "plt.imshow(X_test[nb,].reshape(28,28), cmap='gray', interpolation='none')\n",
        "plt.title(\"Image\")\n",
        "plt.subplot(1,3,3)\n",
        "plt.imshow(layer_output.reshape(32,16), cmap='gray', interpolation='none')\n",
        "plt.title(\"Last hidden layer representation\")"
      ],
      "metadata": {
        "colab": {
          "base_uri": "https://localhost:8080/",
          "height": 555
        },
        "id": "Fj5xHszADYj4",
        "outputId": "9fc08a9d-3b64-4801-cb5e-25ea925c3c6f"
      },
      "execution_count": null,
      "outputs": [
        {
          "output_type": "execute_result",
          "data": {
            "text/plain": [
              "Text(0.5, 1.0, 'Last hidden layer representation')"
            ]
          },
          "metadata": {},
          "execution_count": 303
        },
        {
          "output_type": "display_data",
          "data": {
            "text/plain": [
              "<Figure size 1000x1000 with 2 Axes>"
            ],
            "image/png": "[encoded data removed]"
          },
          "metadata": {}
        }
      ]
    },
    {
      "cell_type": "markdown",
      "metadata": {
        "id": "U98gXYGPRi3u"
      },
      "source": [
        "# Introducing Convolution! What is it?"
      ]
    },
    {
      "cell_type": "markdown",
      "metadata": {
        "id": "cs0tH9PxRi3u"
      },
      "source": [
        "Before, we built a network that accepts the normalized pixel values of each value and operates soley on those values. What if we could instead feed different features (e.g. **curvature, edges**) of each image into a network, and have the network learn which features are important for classifying an image?\n",
        "\n",
        "This possible through convolution! Convolution applies **kernels** (filters) that traverse through each image and generate **feature maps**."
      ]
    },
    {
      "cell_type": "markdown",
      "metadata": {
        "id": "dV3FPLZjRi3u"
      },
      "source": [
        "<img src = 'https://github.com/AviatorMoser/keras-mnist-tutorial/blob/master/convolution.gif?raw=1' >"
      ]
    },
    {
      "cell_type": "markdown",
      "metadata": {
        "id": "nL2AUbuhRi3u"
      },
      "source": [
        "In the above example, the image is a 5 x 5 matrix and the kernel going over it is a 3 x 3 matrix. A dot product operation takes place between the image and the kernel and the convolved feature is generated. Each kernel in a CNN learns a different characteristic of an image.\n",
        "\n",
        "Kernels are often used in photoediting software to apply blurring, edge detection, sharpening, etc."
      ]
    },
    {
      "cell_type": "markdown",
      "metadata": {
        "id": "cgKdHJCFRi3u"
      },
      "source": [
        "<img src = 'https://github.com/AviatorMoser/keras-mnist-tutorial/blob/master/kernels.png?raw=1' >"
      ]
    },
    {
      "cell_type": "markdown",
      "metadata": {
        "id": "k4Z_OpL4Ri3v"
      },
      "source": [
        "Kernels in deep learning networks are used in similar ways, i.e. highlighting some feature. Combined with a system called **max pooling**, the non-highlighted elements are discarded from each feature map, leaving only the features of interest, reducing the number of learned parameters, and decreasing the computational cost (e.g. system memory)."
      ]
    },
    {
      "cell_type": "markdown",
      "metadata": {
        "id": "FHrmIDDqRi3v"
      },
      "source": [
        "<img src = 'https://github.com/AviatorMoser/keras-mnist-tutorial/blob/master/max_pooling.png?raw=1' >"
      ]
    },
    {
      "cell_type": "markdown",
      "metadata": {
        "id": "lHE9A0mURi3v"
      },
      "source": [
        "We can also take convolutions of convolutions -- we can stack as many convolutions as we want, as long as there are enough pixels to fit a kernel.\n",
        "\n",
        "*Warning: What you may find down there in those deep convolutions may not appear recognizable to you.*"
      ]
    },
    {
      "cell_type": "markdown",
      "metadata": {
        "id": "iSlyYrfpRi3v"
      },
      "source": [
        "## Building a \"Deep\" Convolutional Neural Network"
      ]
    },
    {
      "cell_type": "code",
      "execution_count": null,
      "metadata": {
        "collapsed": true,
        "id": "BkW1bLjCRi3v"
      },
      "outputs": [],
      "source": [
        "# import some additional tools\n",
        "\n",
        "from keras.preprocessing.image import ImageDataGenerator\n",
        "from keras.layers import Conv2D, MaxPooling2D, ZeroPadding2D, GlobalAveragePooling2D, Flatten\n",
        "from keras.layers import BatchNormalization"
      ]
    },
    {
      "cell_type": "code",
      "execution_count": null,
      "metadata": {
        "collapsed": true,
        "id": "AwbIeEcNRi3v"
      },
      "outputs": [],
      "source": [
        "# Reload the MNIST data\n",
        "(X_train, y_train), (X_test, y_test) = mnist.load_data()"
      ]
    },
    {
      "cell_type": "code",
      "execution_count": null,
      "metadata": {
        "id": "LCIMKLxsRi3v",
        "colab": {
          "base_uri": "https://localhost:8080/"
        },
        "outputId": "05ea52b0-74b1-4723-e315-5302042e3c55"
      },
      "outputs": [
        {
          "output_type": "stream",
          "name": "stdout",
          "text": [
            "Training matrix shape (60000, 28, 28, 1)\n",
            "Testing matrix shape (10000, 28, 28, 1)\n"
          ]
        }
      ],
      "source": [
        "# Again, do some formatting\n",
        "# Except we do not flatten each image into a 784-length vector because we want to perform convolutions first\n",
        "\n",
        "X_train = X_train.reshape(60000, 28, 28, 1) #add an additional dimension to represent the single-channel\n",
        "X_test = X_test.reshape(10000, 28, 28, 1)\n",
        "\n",
        "X_train = X_train.astype('float32')         # change integers to 32-bit floating point numbers\n",
        "X_test = X_test.astype('float32')\n",
        "\n",
        "X_train /= 255                              # normalize each value for each pixel for the entire vector for each input\n",
        "X_test /= 255\n",
        "\n",
        "print(\"Training matrix shape\", X_train.shape)\n",
        "print(\"Testing matrix shape\", X_test.shape)"
      ]
    },
    {
      "cell_type": "code",
      "execution_count": null,
      "metadata": {
        "collapsed": true,
        "id": "FGJwVFLMRi3w"
      },
      "outputs": [],
      "source": [
        "# convert to 10 categorical classes (as before)\n",
        "\n",
        "nb_classes = 10 # number of unique digits\n",
        "\n",
        "Y_train = to_categorical(y_train, nb_classes)\n",
        "Y_test = to_categorical(y_test, nb_classes)"
      ]
    },
    {
      "cell_type": "code",
      "execution_count": null,
      "metadata": {
        "collapsed": true,
        "id": "WBXjsRAoRi3w"
      },
      "outputs": [],
      "source": [
        "model = Sequential()                                 # Linear stacking of layers\n",
        "\n",
        "# Convolution Layer 1\n",
        "model.add(Conv2D(32, (3, 3), input_shape=(28,28,1))) # 32 different 3x3 kernels -- so 32 feature maps\n",
        "model.add(BatchNormalization(axis=-1))               # normalize each feature map before activation\n",
        "convLayer01 = Activation('relu')                     # activation\n",
        "model.add(convLayer01)\n",
        "\n",
        "# Convolution Layer 2\n",
        "model.add(Conv2D(32, (3, 3)))                        # 32 different 3x3 kernels -- so 32 feature maps\n",
        "model.add(BatchNormalization(axis=-1))               # normalize each feature map before activation\n",
        "model.add(Activation('relu'))                        # activation\n",
        "convLayer02 = MaxPooling2D(pool_size=(2,2))          # Pool the max values over a 2x2 kernel\n",
        "model.add(convLayer02)\n",
        "\n",
        "# Convolution Layer 3\n",
        "model.add(Conv2D(64,(3, 3)))                         # 64 different 3x3 kernels -- so 64 feature maps\n",
        "model.add(BatchNormalization(axis=-1))               # normalize each feature map before activation\n",
        "convLayer03 = Activation('relu')                     # activation\n",
        "model.add(convLayer03)\n",
        "\n",
        "# Convolution Layer 4\n",
        "model.add(Conv2D(64, (3, 3)))                        # 64 different 3x3 kernels -- so 64 feature maps\n",
        "model.add(BatchNormalization(axis=-1))               # normalize each feature map before activation\n",
        "model.add(Activation('relu'))                        # activation\n",
        "convLayer04 = MaxPooling2D(pool_size=(2,2))          # Pool the max values over a 2x2 kernel\n",
        "model.add(convLayer04)\n",
        "model.add(Flatten())                                 # Flatten final 4x4x64 output matrix into a 1024-length vector\n",
        "\n",
        "# Fully Connected Layer 5\n",
        "model.add(Dense(512))                                # 512 FCN nodes\n",
        "model.add(BatchNormalization())                      # normalization\n",
        "model.add(Activation('relu'))                        # activation\n",
        "\n",
        "# Fully Connected Layer 6\n",
        "model.add(Dropout(0.2))                              # 20% dropout of randomly selected nodes\n",
        "model.add(Dense(10))                                 # final 10 FCN nodes\n",
        "model.add(Activation('softmax'))                     # softmax activation"
      ]
    },
    {
      "cell_type": "code",
      "execution_count": null,
      "metadata": {
        "id": "rOu-oEGfRi3w",
        "colab": {
          "base_uri": "https://localhost:8080/"
        },
        "outputId": "90b8097b-e6ca-4262-d411-78373a92ba95"
      },
      "outputs": [
        {
          "output_type": "stream",
          "name": "stdout",
          "text": [
            "Model: \"sequential_4\"\n",
            "_________________________________________________________________\n",
            " Layer (type)                Output Shape              Param #   \n",
            "=================================================================\n",
            " conv2d_4 (Conv2D)           (None, 26, 26, 32)        320       \n",
            "                                                                 \n",
            " batch_normalization_5 (Bat  (None, 26, 26, 32)        128       \n",
            " chNormalization)                                                \n",
            "                                                                 \n",
            " activation_12 (Activation)  (None, 26, 26, 32)        0         \n",
            "                                                                 \n",
            " conv2d_5 (Conv2D)           (None, 24, 24, 32)        9248      \n",
            "                                                                 \n",
            " batch_normalization_6 (Bat  (None, 24, 24, 32)        128       \n",
            " chNormalization)                                                \n",
            "                                                                 \n",
            " activation_13 (Activation)  (None, 24, 24, 32)        0         \n",
            "                                                                 \n",
            " max_pooling2d_2 (MaxPoolin  (None, 12, 12, 32)        0         \n",
            " g2D)                                                            \n",
            "                                                                 \n",
            " conv2d_6 (Conv2D)           (None, 10, 10, 64)        18496     \n",
            "                                                                 \n",
            " batch_normalization_7 (Bat  (None, 10, 10, 64)        256       \n",
            " chNormalization)                                                \n",
            "                                                                 \n",
            " activation_14 (Activation)  (None, 10, 10, 64)        0         \n",
            "                                                                 \n",
            " conv2d_7 (Conv2D)           (None, 8, 8, 64)          36928     \n",
            "                                                                 \n",
            " batch_normalization_8 (Bat  (None, 8, 8, 64)          256       \n",
            " chNormalization)                                                \n",
            "                                                                 \n",
            " activation_15 (Activation)  (None, 8, 8, 64)          0         \n",
            "                                                                 \n",
            " max_pooling2d_3 (MaxPoolin  (None, 4, 4, 64)          0         \n",
            " g2D)                                                            \n",
            "                                                                 \n",
            " flatten_1 (Flatten)         (None, 1024)              0         \n",
            "                                                                 \n",
            " dense_8 (Dense)             (None, 512)               524800    \n",
            "                                                                 \n",
            " batch_normalization_9 (Bat  (None, 512)               2048      \n",
            " chNormalization)                                                \n",
            "                                                                 \n",
            " activation_16 (Activation)  (None, 512)               0         \n",
            "                                                                 \n",
            " dropout_5 (Dropout)         (None, 512)               0         \n",
            "                                                                 \n",
            " dense_9 (Dense)             (None, 10)                5130      \n",
            "                                                                 \n",
            " activation_17 (Activation)  (None, 10)                0         \n",
            "                                                                 \n",
            "=================================================================\n",
            "Total params: 597738 (2.28 MB)\n",
            "Trainable params: 596330 (2.27 MB)\n",
            "Non-trainable params: 1408 (5.50 KB)\n",
            "_________________________________________________________________\n"
          ]
        }
      ],
      "source": [
        "model.summary()"
      ]
    },
    {
      "cell_type": "code",
      "execution_count": null,
      "metadata": {
        "collapsed": true,
        "id": "rzBfpQcoRi3w"
      },
      "outputs": [],
      "source": [
        "# we'll use the same optimizer\n",
        "\n",
        "model.compile(loss='categorical_crossentropy', optimizer='adam', metrics=['accuracy'])"
      ]
    },
    {
      "cell_type": "code",
      "execution_count": null,
      "metadata": {
        "collapsed": true,
        "id": "PlGeTaCXRi3w"
      },
      "outputs": [],
      "source": [
        "# data augmentation prevents overfitting by slightly changing the data randomly\n",
        "# Keras has a great built-in feature to do automatic augmentation\n",
        "\n",
        "gen = ImageDataGenerator(rotation_range=8, width_shift_range=0.08, shear_range=0.3,\n",
        "                         height_shift_range=0.08, zoom_range=0.08)\n",
        "\n",
        "test_gen = ImageDataGenerator()"
      ]
    },
    {
      "cell_type": "code",
      "source": [
        "visualizer(model, file_format='png', view=True)"
      ],
      "metadata": {
        "id": "xkXhqoxv8WCB"
      },
      "execution_count": null,
      "outputs": []
    },
    {
      "cell_type": "code",
      "execution_count": null,
      "metadata": {
        "collapsed": true,
        "id": "IuaGOrzzRi3w"
      },
      "outputs": [],
      "source": [
        "# We can then feed our augmented data in batches\n",
        "# Besides loss function considerations as before, this method actually results in significant memory savings\n",
        "# because we are actually LOADING the data into the network in batches before processing each batch\n",
        "\n",
        "# Before the data was all loaded into memory, but then processed in batches.\n",
        "\n",
        "train_generator = gen.flow(X_train, Y_train, batch_size=128)\n",
        "test_generator = test_gen.flow(X_test, Y_test, batch_size=128)"
      ]
    },
    {
      "cell_type": "code",
      "execution_count": null,
      "metadata": {
        "id": "e4AuNUTURi3w",
        "colab": {
          "base_uri": "https://localhost:8080/"
        },
        "outputId": "9a886917-9ae3-4e0d-e9dc-90670ae9b91f"
      },
      "outputs": [
        {
          "output_type": "stream",
          "name": "stdout",
          "text": [
            "Epoch 1/5\n"
          ]
        },
        {
          "output_type": "stream",
          "name": "stderr",
          "text": [
            "<ipython-input-186-758777735d04>:6: UserWarning: `Model.fit_generator` is deprecated and will be removed in a future version. Please use `Model.fit`, which supports generators.\n",
            "  model.fit_generator(train_generator, steps_per_epoch=60000//128, epochs=5, verbose=1,\n"
          ]
        },
        {
          "output_type": "stream",
          "name": "stdout",
          "text": [
            "468/468 [==============================] - 25s 46ms/step - loss: 0.1316 - accuracy: 0.9590 - val_loss: 0.0859 - val_accuracy: 0.9734\n",
            "Epoch 2/5\n",
            "468/468 [==============================] - 21s 44ms/step - loss: 0.0497 - accuracy: 0.9846 - val_loss: 0.0519 - val_accuracy: 0.9837\n",
            "Epoch 3/5\n",
            "468/468 [==============================] - 23s 48ms/step - loss: 0.0384 - accuracy: 0.9883 - val_loss: 0.0376 - val_accuracy: 0.9868\n",
            "Epoch 4/5\n",
            "468/468 [==============================] - 21s 45ms/step - loss: 0.0341 - accuracy: 0.9894 - val_loss: 0.0283 - val_accuracy: 0.9901\n",
            "Epoch 5/5\n",
            "468/468 [==============================] - 22s 47ms/step - loss: 0.0298 - accuracy: 0.9901 - val_loss: 0.0214 - val_accuracy: 0.9927\n"
          ]
        },
        {
          "output_type": "execute_result",
          "data": {
            "text/plain": [
              "<keras.src.callbacks.History at 0x7e0774244e20>"
            ]
          },
          "metadata": {},
          "execution_count": 186
        }
      ],
      "source": [
        "# We can now train our model which is fed data by our batch loader\n",
        "# Steps per epoch should always be total size of the set divided by the batch size\n",
        "\n",
        "# SIGNIFICANT MEMORY SAVINGS (important for larger, deeper networks)\n",
        "\n",
        "model.fit_generator(train_generator, steps_per_epoch=60000//128, epochs=5, verbose=1,\n",
        "                    validation_data=test_generator, validation_steps=10000//128)"
      ]
    },
    {
      "cell_type": "code",
      "execution_count": null,
      "metadata": {
        "id": "64Gwx6CNRi3w",
        "colab": {
          "base_uri": "https://localhost:8080/"
        },
        "outputId": "1c4d2b40-0085-4972-c809-f425d0bdf96c"
      },
      "outputs": [
        {
          "output_type": "stream",
          "name": "stdout",
          "text": [
            "313/313 [==============================] - 1s 4ms/step - loss: 0.0214 - accuracy: 0.9927\n",
            "Test score: 0.021404726430773735\n",
            "Test accuracy: 0.9926999807357788\n"
          ]
        }
      ],
      "source": [
        "score = model.evaluate(X_test, Y_test)\n",
        "print('Test score:', score[0])\n",
        "print('Test accuracy:', score[1])"
      ]
    },
    {
      "cell_type": "code",
      "source": [
        "predicted_classes = np.argmax(model.predict(X_test), axis = 1) #,axis=1)model.predict_classes(X_test)\n",
        "correct_indices = np.nonzero(predicted_classes == y_test)[0]\n",
        "incorrect_indices = np.nonzero(predicted_classes != y_test)[0]\n",
        "plt.figure()\n",
        "for i, incorrect in enumerate(incorrect_indices[:9]):\n",
        "    plt.subplot(3,3,i+1)\n",
        "    plt.imshow(X_test[incorrect].reshape(28,28), cmap='gray', interpolation='none')\n",
        "    plt.title(\"Predicted {}, Class {}\".format(predicted_classes[incorrect], y_test[incorrect]))\n",
        "\n",
        "plt.tight_layout()"
      ],
      "metadata": {
        "colab": {
          "base_uri": "https://localhost:8080/",
          "height": 924
        },
        "id": "wa__p8MC9vK-",
        "outputId": "1da48ab0-8d47-49cf-fbd9-a9c6f8be58e2"
      },
      "execution_count": null,
      "outputs": [
        {
          "output_type": "stream",
          "name": "stdout",
          "text": [
            "313/313 [==============================] - 1s 2ms/step\n"
          ]
        },
        {
          "output_type": "display_data",
          "data": {
            "text/plain": [
              "<Figure size 900x900 with 9 Axes>"
            ],
            "image/png": "[encoded data removed]"
          },
          "metadata": {}
        }
      ]
    },
    {
      "cell_type": "markdown",
      "metadata": {
        "id": "che-0_lQRi3x"
      },
      "source": [
        "## Great results!\n",
        "\n",
        "In the few places where the neural network misread the image, it isn't clear that a human would have done any better."
      ]
    },
    {
      "cell_type": "markdown",
      "source": [
        "# Additional Training\n",
        "\n",
        "For more training and MANY MANY EXAMPLES of Neural Networks visit\n",
        "\n",
        "#https://keras.io/\n"
      ],
      "metadata": {
        "id": "0qHWFv4P_-2h"
      }
    }
  ],
  "metadata": {
    "kernelspec": {
      "display_name": "Python 3",
      "name": "python3"
    },
    "language_info": {
      "name": "python"
    },
    "colab": {
      "provenance": [],
      "gpuType": "V100",
      "include_colab_link": true
    },
    "accelerator": "GPU"
  },
  "nbformat": 4,
  "nbformat_minor": 0
}